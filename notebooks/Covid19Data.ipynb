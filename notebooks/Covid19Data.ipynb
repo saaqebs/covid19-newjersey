{
 "cells": [
  {
   "cell_type": "markdown",
   "metadata": {},
   "source": [
    "# Loading NJ COVID-19 Data Into JSON and CSV\n",
    "\n",
    "This python notebook contains the code used to scrape articles from [NJ.com](https://www.nj.com/) to get data on number of COVID-19 cases per municipalities in New Jersey. \n",
    "\n",
    "Some counties have not been reporting the number of cases (as of 4/7): Mercer County, Atlantic County\n",
    "\n",
    "I use `urllib` for loading the webpage, `bs4` & `re` for scraping, `datetime` for getting the current date, and `json` & `csv` for loading the data into the correct outputting files."
   ]
  },
  {
   "cell_type": "code",
   "execution_count": 1,
   "metadata": {},
   "outputs": [],
   "source": [
    "from urllib import request, error, parse\n",
    "from bs4 import BeautifulSoup\n",
    "from datetime import date\n",
    "import json\n",
    "import csv\n",
    "import re"
   ]
  },
  {
   "cell_type": "markdown",
   "metadata": {},
   "source": [
    "Getting the current date and loading it into the correct format for accessing the [NJ.com](https://www.nj.com/) url where the data lies."
   ]
  },
  {
   "cell_type": "code",
   "execution_count": 2,
   "metadata": {},
   "outputs": [],
   "source": [
    "rn = date.today()\n",
    "month = rn.strftime(\"%B\").lower()\n",
    "day = rn.day\n",
    "year = rn.year"
   ]
  },
  {
   "cell_type": "code",
   "execution_count": 3,
   "metadata": {},
   "outputs": [],
   "source": [
    "current_date = \"{}-{}-{}\".format(month,day,year)\n",
    "month_number = str(rn.month) if rn.month > 9 else '0' + str(rn.month)"
   ]
  },
  {
   "cell_type": "code",
   "execution_count": 4,
   "metadata": {},
   "outputs": [],
   "source": [
    "nj_dot_com_link = 'https://www.nj.com/coronavirus/2020/{0}/where-is-the-coronavirus-in-\\\n",
    "nj-latest-map-update-on-county-by-county-cases-{1}.html'.format(month_number, current_date)"
   ]
  },
  {
   "cell_type": "markdown",
   "metadata": {},
   "source": [
    "Loading the HTML file locally for scraping and parsing."
   ]
  },
  {
   "cell_type": "code",
   "execution_count": 5,
   "metadata": {},
   "outputs": [],
   "source": [
    "response = request.urlopen(nj_dot_com_link)\n",
    "covid19_html = response.read()\n",
    "soup = BeautifulSoup(covid19_html,'lxml')"
   ]
  },
  {
   "cell_type": "markdown",
   "metadata": {},
   "source": [
    "Getting the main part of the article where the data lies within the HTML file."
   ]
  },
  {
   "cell_type": "code",
   "execution_count": 6,
   "metadata": {},
   "outputs": [],
   "source": [
    "main = soup.find_all('main') # main part of article\n",
    "article = soup.find_all('article') # article component"
   ]
  },
  {
   "cell_type": "markdown",
   "metadata": {},
   "source": [
    "Loading and cleaning the data (in string format) for matching. Prints an error if the row is not cleaned properly."
   ]
  },
  {
   "cell_type": "code",
   "execution_count": 7,
   "metadata": {},
   "outputs": [],
   "source": [
    "data = []\n",
    "for row in article[0].find_all('p'):\n",
    "    delims = '.+\\:\\s*\\d+'\n",
    "    statistic = row.getText().lower()\n",
    "    \n",
    "    if ':' in statistic and '•' in statistic:\n",
    "        cleaned_row = re.findall(delims,statistic)\n",
    "        if len(cleaned_row) != 1:\n",
    "            print(statistic)\n",
    "            continue\n",
    "        data.append(cleaned_row[0][1:].strip())"
   ]
  },
  {
   "cell_type": "markdown",
   "metadata": {},
   "source": [
    "Loading all of the NJ Municipalities names from `nj_municipals.txt`. Loading dictionaries for handling errors such as misspellings and shorthands for munipalities."
   ]
  },
  {
   "cell_type": "code",
   "execution_count": 8,
   "metadata": {},
   "outputs": [],
   "source": [
    "nj_municipals = set(line.strip() for line in open('nj_municipals.txt'))"
   ]
  },
  {
   "cell_type": "code",
   "execution_count": 9,
   "metadata": {},
   "outputs": [],
   "source": [
    "substring_errors = {\n",
    "    'pemberton boro' : 'pemberton',\n",
    "    ' borough' : '',\n",
    "    'parsippany' : 'parsippany-troy hills',\n",
    "    ' city' : '',\n",
    "    'south orange' : 'south orange village',\n",
    "    'oldsman' : 'oldmans',\n",
    "    'bryram' : 'byram',\n",
    "    'wantgage' : 'wantage'\n",
    "}\n",
    "\n",
    "fullstring_errors = {\n",
    "    'orange' : 'city of orange',\n",
    "    'clinton town' : 'clinton township',\n",
    "    'pine hil' : ' pine hill',\n",
    "    'peapack-gladstone' : 'peapack and gladstone',\n",
    "    'pepack-gladstone' : 'peapack and gladstone',\n",
    "    'hadonfield' : 'haddonfield',\n",
    "    'tewsbury' : 'tewksbury',\n",
    "    'boonton town' : 'boonton township',\n",
    "    'peuannock' : 'pequannock',\n",
    "    'hardick' : 'hardwick',\n",
    "    'gutenberg' : 'guttenberg',\n",
    "    'rivervale' : 'river vale',\n",
    "    'highstown' : 'hightstown'\n",
    "}"
   ]
  },
  {
   "cell_type": "markdown",
   "metadata": {},
   "source": [
    "Loading and storing the data into a dictionary `nj_covid_19_data` after cleaning the input to match the correct municipality names retreived from `nj_municipals`. Prints an error message if a municipality is not found."
   ]
  },
  {
   "cell_type": "code",
   "execution_count": 10,
   "metadata": {},
   "outputs": [],
   "source": [
    "nj_covid_19_data = {}\n",
    "\n",
    "for row in data:\n",
    "    infected_township = re.split(':',row)\n",
    "    town = infected_township[0].strip()\n",
    "    num_infected = int(infected_township[1].strip())\n",
    "    \n",
    "    for error in substring_errors.keys():\n",
    "        town = town.replace(error,substring_errors[error])\n",
    "        \n",
    "    for error in fullstring_errors.keys():\n",
    "        if town.strip() == error:\n",
    "            town = fullstring_errors[error]\n",
    "        \n",
    "    town = town.strip()\n",
    "    township = town + ' township'\n",
    "    city = town + ' city'\n",
    "    \n",
    "    if town in nj_municipals:\n",
    "        nj_covid_19_data[town] = num_infected\n",
    "        \n",
    "    elif township in nj_municipals:\n",
    "        nj_covid_19_data[township] = num_infected\n",
    "        \n",
    "    elif city in nj_municipals:\n",
    "        nj_covid_19_data[city] = num_infected\n",
    "    else: \n",
    "        print('ERROR TOWN NOT FOUND IN NJ MUNICIPALS: {}'.format(town))"
   ]
  },
  {
   "cell_type": "markdown",
   "metadata": {},
   "source": [
    "Loading the data into a json file `nj_covid19_today.json` containing the number for cases per municipalities in New Jersey for the current date."
   ]
  },
  {
   "cell_type": "code",
   "execution_count": 11,
   "metadata": {},
   "outputs": [],
   "source": [
    "json_data = {\n",
    "    'last fetched' : current_date,\n",
    "    'data' : nj_covid_19_data\n",
    "}"
   ]
  },
  {
   "cell_type": "code",
   "execution_count": 12,
   "metadata": {},
   "outputs": [],
   "source": [
    "with open('../nj_covid19_today.json', 'w') as datafile:\n",
    "    json.dump(json_data,datafile)"
   ]
  },
  {
   "cell_type": "markdown",
   "metadata": {},
   "source": [
    "Below are helper functions used to access data from previous dates."
   ]
  },
  {
   "cell_type": "code",
   "execution_count": 13,
   "metadata": {},
   "outputs": [],
   "source": [
    "def get_covid_data_for_specific_date(month,day,month_num='04'):\n",
    "    date = \"{}-{}-{}\".format(month,day,2020)\n",
    "    monthnumber = month_num\n",
    "\n",
    "    nj_dot_com_link = 'https://www.nj.com/coronavirus/2020/{0}/where-is-the-coronavirus-in-\\\n",
    "    nj-latest-map-update-on-county-by-county-cases-{1}.html'.format(monthnumber, date)\n",
    "    return nj_dot_com_link"
   ]
  },
  {
   "cell_type": "code",
   "execution_count": 14,
   "metadata": {},
   "outputs": [],
   "source": [
    "def put_covid_data_in_csv():\n",
    "    with open('../total_nj_covid19.csv', 'a') as fulldf:\n",
    "        for mun in nj_covid_19_data:\n",
    "            writer = csv.writer(fulldf)\n",
    "            writer.writerow([current_date,mun,nj_covid_19_data[mun]])\n",
    "    return"
   ]
  },
  {
   "cell_type": "code",
   "execution_count": 15,
   "metadata": {},
   "outputs": [],
   "source": [
    "# get_covid_data_for_specific_date('april',7)\n",
    "put_covid_data_in_csv()"
   ]
  }
 ],
 "metadata": {
  "kernelspec": {
   "display_name": "Python 3",
   "language": "python",
   "name": "python3"
  },
  "language_info": {
   "codemirror_mode": {
    "name": "ipython",
    "version": 3
   },
   "file_extension": ".py",
   "mimetype": "text/x-python",
   "name": "python",
   "nbconvert_exporter": "python",
   "pygments_lexer": "ipython3",
   "version": "3.7.6"
  }
 },
 "nbformat": 4,
 "nbformat_minor": 4
}
