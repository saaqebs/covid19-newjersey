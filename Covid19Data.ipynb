{
 "cells": [
  {
   "cell_type": "code",
   "execution_count": 1,
   "metadata": {},
   "outputs": [],
   "source": [
    "from urllib import request, error, parse\n",
    "from bs4 import BeautifulSoup\n",
    "from datetime import date\n",
    "import pandas as pd\n",
    "import json\n",
    "import csv\n",
    "import re"
   ]
  },
  {
   "cell_type": "code",
   "execution_count": null,
   "metadata": {},
   "outputs": [],
   "source": [
    "rn = date.today()\n",
    "month = rn.strftime(\"%B\").lower()\n",
    "day = rn.day\n",
    "year = rn.year"
   ]
  },
  {
   "cell_type": "code",
   "execution_count": null,
   "metadata": {},
   "outputs": [],
   "source": [
    "current_date = \"{}-{}-{}\".format(month,day,year)\n",
    "month_number = str(rn.month) if rn.month > 9 else '0' + str(rn.month)"
   ]
  },
  {
   "cell_type": "code",
   "execution_count": null,
   "metadata": {},
   "outputs": [],
   "source": [
    "nj_dot_com_link = 'https://www.nj.com/coronavirus/2020/{0}/where-is-the-coronavirus-in-\\\n",
    "nj-latest-map-update-on-county-by-county-cases-{1}.html'.format(month_number, current_date)"
   ]
  },
  {
   "cell_type": "code",
   "execution_count": null,
   "metadata": {},
   "outputs": [],
   "source": [
    "\n",
    "date = \"{}-{}-{}\".format(4,1,2020)\n",
    "monthnumber = '04'\n",
    "\n",
    "nj_dot_com_link = 'https://www.nj.com/coronavirus/2020/{0}/where-is-the-coronavirus-in-\\\n",
    "nj-latest-map-update-on-county-by-county-cases-{1}.html'.format(monthnumber, date)"
   ]
  },
  {
   "cell_type": "code",
   "execution_count": null,
   "metadata": {},
   "outputs": [],
   "source": [
    "response = request.urlopen(nj_dot_com_link)\n",
    "covid19_html = response.read()\n",
    "soup = BeautifulSoup(covid19_html,'lxml')"
   ]
  },
  {
   "cell_type": "code",
   "execution_count": null,
   "metadata": {},
   "outputs": [],
   "source": [
    "main = soup.find_all('main') # main part of article\n",
    "article = soup.find_all('article') # article component"
   ]
  },
  {
   "cell_type": "code",
   "execution_count": null,
   "metadata": {},
   "outputs": [],
   "source": [
    "a = [re.findall('.+\\:\\s*\\d+',p.getText().lower()) for p in article[0].find_all('p') if ':' in str(p) and '•' in str(p)]\n",
    "b = [p.getText().lower() for p in article[0].find_all('p') if ':' in str(p) and '•' in str(p)]"
   ]
  },
  {
   "cell_type": "code",
   "execution_count": null,
   "metadata": {},
   "outputs": [],
   "source": [
    "data = []\n",
    "for row in article[0].find_all('p'):\n",
    "    delims = '.+\\:\\s*\\d+'\n",
    "    statistic = row.getText().lower()\n",
    "    \n",
    "    if ':' in statistic and '•' in statistic:\n",
    "        cleaned_row = re.findall(delims,statistic)\n",
    "        if len(cleaned_row) != 1:\n",
    "            print(statistic)\n",
    "            continue\n",
    "        data.append(cleaned_row[0][1:].strip())"
   ]
  },
  {
   "cell_type": "code",
   "execution_count": null,
   "metadata": {},
   "outputs": [],
   "source": [
    "nj_municipals = set(line.strip() for line in open('nj_municipals.txt'))"
   ]
  },
  {
   "cell_type": "code",
   "execution_count": null,
   "metadata": {},
   "outputs": [],
   "source": [
    "substring_errors = {\n",
    "    'pemberton boro' : 'pemberton',\n",
    "    ' borough' : '',\n",
    "    'parsippany' : 'parsippany-troy hills',\n",
    "    ' city' : '',\n",
    "    'south orange' : 'south orange village',\n",
    "    'oldsman' : 'oldmans',\n",
    "    'peapack-gladstone' : 'peapack and gladstone',\n",
    "    'bryram' : 'byram',\n",
    "    'wantgage' : 'wantage'\n",
    "}\n",
    "\n",
    "fullstring_errors = {\n",
    "    'orange' : 'city of orange',\n",
    "    'clinton town' : 'clinton township'\n",
    "}"
   ]
  },
  {
   "cell_type": "code",
   "execution_count": null,
   "metadata": {},
   "outputs": [],
   "source": [
    "nj_covid_19_data = {}\n",
    "\n",
    "for row in data:\n",
    "    infected_township = re.split(':',row)\n",
    "    town = infected_township[0].strip()\n",
    "    num_infected = int(infected_township[1].strip())\n",
    "    \n",
    "    for error in substring_errors.keys():\n",
    "        town = town.replace(error,errors[error])\n",
    "        \n",
    "    for error in fullstring_errors.keys():\n",
    "        if town.strip() == error:\n",
    "            town = fullstring_errors[error]\n",
    "        \n",
    "    town = town.strip()\n",
    "    township = town + ' township'\n",
    "    city = town + ' city'\n",
    "    \n",
    "    if town in nj_municipals:\n",
    "        nj_covid_19_data[town] = num_infected\n",
    "        \n",
    "    elif township in nj_municipals:\n",
    "        nj_covid_19_data[township] = num_infected\n",
    "        \n",
    "    elif city in nj_municipals:\n",
    "        nj_covid_19_data[city] = num_infected\n",
    "    else: \n",
    "        print('ERROR TOWN NOT FOUND IN NJ MUNICIPALS: {}'.format(town))"
   ]
  },
  {
   "cell_type": "code",
   "execution_count": null,
   "metadata": {},
   "outputs": [],
   "source": [
    "json_data = {\n",
    "    'last fetched' : current_date,\n",
    "    'data' : nj_covid_19_data\n",
    "}"
   ]
  },
  {
   "cell_type": "code",
   "execution_count": null,
   "metadata": {},
   "outputs": [],
   "source": [
    "with open('covid19_nj.json', 'w') as datafile:\n",
    "    json.dump(json_data,datafile)"
   ]
  },
  {
   "cell_type": "code",
   "execution_count": null,
   "metadata": {},
   "outputs": [],
   "source": []
  }
 ],
 "metadata": {
  "kernelspec": {
   "display_name": "Python 3",
   "language": "python",
   "name": "python3"
  },
  "language_info": {
   "codemirror_mode": {
    "name": "ipython",
    "version": 3
   },
   "file_extension": ".py",
   "mimetype": "text/x-python",
   "name": "python",
   "nbconvert_exporter": "python",
   "pygments_lexer": "ipython3",
   "version": "3.7.6"
  }
 },
 "nbformat": 4,
 "nbformat_minor": 4
}
